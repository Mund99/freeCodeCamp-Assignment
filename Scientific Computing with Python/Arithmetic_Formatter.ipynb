{
  "nbformat": 4,
  "nbformat_minor": 0,
  "metadata": {
    "colab": {
      "provenance": []
    },
    "kernelspec": {
      "name": "python3",
      "display_name": "Python 3"
    },
    "language_info": {
      "name": "python"
    }
  },
  "cells": [
    {
      "cell_type": "markdown",
      "source": [
        "**Question link from freecodecamp:**\n",
        "\n",
        "https://www.freecodecamp.org/learn/scientific-computing-with-python/scientific-computing-with-python-projects/arithmetic-formatter\n"
      ],
      "metadata": {
        "id": "SHx0FnSSKSut"
      }
    },
    {
      "cell_type": "code",
      "execution_count": 1,
      "metadata": {
        "id": "AklAcM3glb_5"
      },
      "outputs": [],
      "source": [
        "def validate_problem(digit_1, operator, digit_2):\n",
        "    \"\"\"\n",
        "    Validate the arithmetic problem components.\n",
        "\n",
        "    Parameters:\n",
        "    - digit_1 (str): The first operand.\n",
        "    - operator (str): The arithmetic operator.\n",
        "    - digit_2 (str): The second operand.\n",
        "\n",
        "    Returns:\n",
        "    - str or None: An error message if validation fails, otherwise None.\n",
        "    \"\"\"\n",
        "    if operator not in ['+', '-']:\n",
        "        return \"Error: Operator must be '+' or '-'.\"\n",
        "\n",
        "    if not digit_1.isdigit() or not digit_2.isdigit():\n",
        "        return \"Error: Numbers must only contain digits.\"\n",
        "\n",
        "    if len(digit_1) > 4 or len(digit_2) > 4:\n",
        "        return \"Error: Numbers cannot be more than four digits.\"\n",
        "\n",
        "    return None  # No error"
      ]
    },
    {
      "cell_type": "code",
      "source": [
        "def calculate_answer(digit_1, operator, digit_2):\n",
        "    \"\"\"\n",
        "    Calculate the result of the arithmetic operation.\n",
        "\n",
        "    Parameters:\n",
        "    - digit_1 (int): The first operand.\n",
        "    - operator (str): The arithmetic operator.\n",
        "    - digit_2 (int): The second operand.\n",
        "\n",
        "    Returns:\n",
        "    - int: The result of the arithmetic operation.\n",
        "    \"\"\"\n",
        "    if operator == '+':\n",
        "        return digit_1 + digit_2\n",
        "    elif operator == '-':\n",
        "        return digit_1 - digit_2"
      ],
      "metadata": {
        "id": "_Vk1g3nJKMJP"
      },
      "execution_count": 2,
      "outputs": []
    },
    {
      "cell_type": "code",
      "source": [
        "def arithmetic_arranger(problems, display_ans=False):\n",
        "    \"\"\"\n",
        "    Arrange arithmetic problems vertically.\n",
        "\n",
        "    Parameters:\n",
        "    - problems (list): List of arithmetic problems in the format [\"num1 operator num2\", ...].\n",
        "    - display_ans (bool): Whether to display the answers.\n",
        "\n",
        "    Returns:\n",
        "    - str: The arranged arithmetic problems.\n",
        "    \"\"\"\n",
        "    list_digit_1 = []\n",
        "    list_operator = []\n",
        "    list_digit_2 = []\n",
        "    op_max_size = []\n",
        "    prob_gap = \" \" * 4\n",
        "    line_1 = line_2 = line_3 = line_4 = line_5 = \"\"\n",
        "\n",
        "    # Check for too many problems\n",
        "    if len(problems) > 5:\n",
        "        return 'Error: Too many problems.'\n",
        "\n",
        "    # Validate each problem and populate lists\n",
        "    for i in range(len(problems)):\n",
        "        digit_1, operator, digit_2 = problems[i].split()\n",
        "\n",
        "        validation_error = validate_problem(digit_1, operator, digit_2)\n",
        "        if validation_error:\n",
        "            return validation_error\n",
        "\n",
        "        list_digit_1.append(int(digit_1))\n",
        "        list_operator.append(operator)\n",
        "        list_digit_2.append(int(digit_2))\n",
        "\n",
        "    # Determine the maximum size of operands\n",
        "    op_max_size = [\n",
        "        max(len(str(digit_1)), len(str(digit_2)))\n",
        "        for digit_1, digit_2 in zip(list_digit_1, list_digit_2)\n",
        "    ]\n",
        "\n",
        "    # Construct lines for display\n",
        "    for i in range(len(problems)):\n",
        "        line_1 += str(list_digit_1[i]).rjust(op_max_size[i] + 2, \" \")\n",
        "        line_2 += f\"{list_operator[i]} {str(list_digit_2[i]).rjust(op_max_size[i], ' ')}\"\n",
        "        line_3 += f\"{'-' * (op_max_size[i] + 2)}\"\n",
        "\n",
        "        # Calculate and display answers if required\n",
        "        if display_ans:\n",
        "            ans = calculate_answer(list_digit_1[i], list_operator[i], list_digit_2[i])\n",
        "            line_4 += str(ans).rjust(op_max_size[i] + 2, \" \")\n",
        "            line_5 += f\"{'-' * (op_max_size[i] + 2)}\"\n",
        "\n",
        "        # Add spacing between problems\n",
        "        if i != len(problems) - 1:\n",
        "            line_1 += prob_gap\n",
        "            line_2 += prob_gap\n",
        "            line_3 += prob_gap\n",
        "            if display_ans:\n",
        "                line_4 += prob_gap\n",
        "                line_5 += prob_gap\n",
        "\n",
        "    arranged_problems = line_1 + '\\n' + line_2 + '\\n' + line_3\n",
        "\n",
        "    # Include answers in the result if required\n",
        "    if display_ans:\n",
        "        arranged_problems += '\\n' + line_4 + '\\n' + line_5\n",
        "\n",
        "    return arranged_problems"
      ],
      "metadata": {
        "id": "NcHQDArE4Ks5"
      },
      "execution_count": 3,
      "outputs": []
    },
    {
      "cell_type": "code",
      "source": [
        "problems = [\"32 + 698\", \"3801 - 2\", \"45 + 43\", \"123 + 49\"]\n",
        "arranged_problems = arithmetic_arranger(problems, True)\n",
        "\n",
        "print(arranged_problems)"
      ],
      "metadata": {
        "colab": {
          "base_uri": "https://localhost:8080/"
        },
        "id": "xkHX0xBaYxgW",
        "outputId": "b77401ce-42e9-4bbb-fabe-db11d0a39773"
      },
      "execution_count": 4,
      "outputs": [
        {
          "output_type": "stream",
          "name": "stdout",
          "text": [
            "   32      3801      45      123\n",
            "+ 698    -    2    + 43    +  49\n",
            "-----    ------    ----    -----\n",
            "  730      3799      88      172\n",
            "-----    ------    ----    -----\n"
          ]
        }
      ]
    },
    {
      "cell_type": "code",
      "source": [
        "# Test Case 1\n",
        "problems = ['3801 - 2', '123 + 49']\n",
        "arranged_problems = arithmetic_arranger(problems)\n",
        "\n",
        "print(arranged_problems)"
      ],
      "metadata": {
        "colab": {
          "base_uri": "https://localhost:8080/"
        },
        "id": "ACAHJtnyFj80",
        "outputId": "c19b4005-96a1-4c91-b22b-7aee6b73efc8"
      },
      "execution_count": 5,
      "outputs": [
        {
          "output_type": "stream",
          "name": "stdout",
          "text": [
            "  3801      123\n",
            "-    2    +  49\n",
            "------    -----\n"
          ]
        }
      ]
    },
    {
      "cell_type": "code",
      "source": [
        "# Test Case 2\n",
        "problems = ['1 + 2', '1 - 9380']\n",
        "arranged_problems = arithmetic_arranger(problems)\n",
        "\n",
        "print(arranged_problems)"
      ],
      "metadata": {
        "colab": {
          "base_uri": "https://localhost:8080/"
        },
        "id": "F4tDEDVDK7dk",
        "outputId": "0dd6ff7c-d1d1-45a4-bd3e-1869c39a893c"
      },
      "execution_count": 6,
      "outputs": [
        {
          "output_type": "stream",
          "name": "stdout",
          "text": [
            "  1         1\n",
            "+ 2    - 9380\n",
            "---    ------\n"
          ]
        }
      ]
    },
    {
      "cell_type": "code",
      "source": [
        "# Test Case 3\n",
        "problems = ['3 + 855', '3801 - 2', '45 + 43', '123 + 49']\n",
        "arranged_problems = arithmetic_arranger(problems)\n",
        "\n",
        "print(arranged_problems)"
      ],
      "metadata": {
        "colab": {
          "base_uri": "https://localhost:8080/"
        },
        "id": "S3UxDiEGLCkq",
        "outputId": "986b5eb7-8bd5-42ca-a934-9b33e3bd9878"
      },
      "execution_count": 7,
      "outputs": [
        {
          "output_type": "stream",
          "name": "stdout",
          "text": [
            "    3      3801      45      123\n",
            "+ 855    -    2    + 43    +  49\n",
            "-----    ------    ----    -----\n"
          ]
        }
      ]
    },
    {
      "cell_type": "code",
      "source": [
        "# Test Case 4\n",
        "problems = ['11 + 4', '3801 - 2999', '1 + 2', '123 + 49', '1 - 9380']\n",
        "arranged_problems = arithmetic_arranger(problems)\n",
        "\n",
        "print(arranged_problems)"
      ],
      "metadata": {
        "colab": {
          "base_uri": "https://localhost:8080/"
        },
        "id": "c70jBWsOLCiM",
        "outputId": "6aae8439-65a6-4869-dfd6-c4627dd62d0d"
      },
      "execution_count": 8,
      "outputs": [
        {
          "output_type": "stream",
          "name": "stdout",
          "text": [
            "  11      3801      1      123         1\n",
            "+  4    - 2999    + 2    +  49    - 9380\n",
            "----    ------    ---    -----    ------\n"
          ]
        }
      ]
    },
    {
      "cell_type": "code",
      "source": [
        "# Test Case 5\n",
        "problems = [\n",
        "            '44 + 815', '909 - 2', '45 + 43', '123 + 49', '888 + 40',\n",
        "            '653 + 87'\n",
        "        ]\n",
        "arranged_problems = arithmetic_arranger(problems)\n",
        "\n",
        "print(arranged_problems)"
      ],
      "metadata": {
        "colab": {
          "base_uri": "https://localhost:8080/"
        },
        "id": "_N3gIYv0LCeu",
        "outputId": "eaef78e5-a34f-462f-e015-0ee9506a89ae"
      },
      "execution_count": 9,
      "outputs": [
        {
          "output_type": "stream",
          "name": "stdout",
          "text": [
            "Error: Too many problems.\n"
          ]
        }
      ]
    },
    {
      "cell_type": "code",
      "source": [
        "# Test Case 6\n",
        "problems = ['3 / 855', '3801 - 2', '45 + 43', '123 + 49']\n",
        "arranged_problems = arithmetic_arranger(problems)\n",
        "\n",
        "print(arranged_problems)"
      ],
      "metadata": {
        "colab": {
          "base_uri": "https://localhost:8080/"
        },
        "id": "fBxsC_4MLCbt",
        "outputId": "cc49454e-d60e-4d2e-c4d3-14a4c497a88b"
      },
      "execution_count": 10,
      "outputs": [
        {
          "output_type": "stream",
          "name": "stdout",
          "text": [
            "Error: Operator must be '+' or '-'.\n"
          ]
        }
      ]
    },
    {
      "cell_type": "code",
      "source": [
        "# Test Case 7\n",
        "problems = ['24 + 85215', '3801 - 2', '45 + 43', '123 + 49']\n",
        "arranged_problems = arithmetic_arranger(problems)\n",
        "\n",
        "print(arranged_problems)"
      ],
      "metadata": {
        "colab": {
          "base_uri": "https://localhost:8080/"
        },
        "id": "o0VleeTtLRaK",
        "outputId": "b6d1949e-deb0-4ed0-fb50-e2b505cf8bbd"
      },
      "execution_count": 11,
      "outputs": [
        {
          "output_type": "stream",
          "name": "stdout",
          "text": [
            "Error: Numbers cannot be more than four digits.\n"
          ]
        }
      ]
    },
    {
      "cell_type": "code",
      "source": [
        "# Test Case 8\n",
        "problems = ['98 + 3g5', '3801 - 2', '45 + 43', '123 + 49']\n",
        "arranged_problems = arithmetic_arranger(problems, True)\n",
        "\n",
        "print(arranged_problems)"
      ],
      "metadata": {
        "colab": {
          "base_uri": "https://localhost:8080/"
        },
        "id": "ezBf4RcULRW-",
        "outputId": "0a984825-4821-4f5d-a6a6-ff5d144c991a"
      },
      "execution_count": 12,
      "outputs": [
        {
          "output_type": "stream",
          "name": "stdout",
          "text": [
            "Error: Numbers must only contain digits.\n"
          ]
        }
      ]
    },
    {
      "cell_type": "code",
      "source": [
        "# Test Case 9\n",
        "problems = ['3 + 855', '988 + 40']\n",
        "arranged_problems = arithmetic_arranger(problems, True)\n",
        "\n",
        "print(arranged_problems)"
      ],
      "metadata": {
        "colab": {
          "base_uri": "https://localhost:8080/"
        },
        "id": "hCeyVAmnLRT7",
        "outputId": "62cac091-2c67-497c-cbde-5f229d4d3609"
      },
      "execution_count": 13,
      "outputs": [
        {
          "output_type": "stream",
          "name": "stdout",
          "text": [
            "    3      988\n",
            "+ 855    +  40\n",
            "-----    -----\n",
            "  858     1028\n",
            "-----    -----\n"
          ]
        }
      ]
    },
    {
      "cell_type": "code",
      "source": [
        "# Test Case 10\n",
        "problems = ['32 - 698', '1 - 3801', '45 + 43', '123 + 49', '988 + 40']\n",
        "arranged_problems = arithmetic_arranger(problems, True)\n",
        "\n",
        "print(arranged_problems)"
      ],
      "metadata": {
        "colab": {
          "base_uri": "https://localhost:8080/"
        },
        "id": "EjiVp13PLRRU",
        "outputId": "1962bdfb-79e4-4dba-e098-fbec747f27e0"
      },
      "execution_count": 14,
      "outputs": [
        {
          "output_type": "stream",
          "name": "stdout",
          "text": [
            "   32         1      45      123      988\n",
            "- 698    - 3801    + 43    +  49    +  40\n",
            "-----    ------    ----    -----    -----\n",
            " -666     -3800      88      172     1028\n",
            "-----    ------    ----    -----    -----\n"
          ]
        }
      ]
    }
  ]
}