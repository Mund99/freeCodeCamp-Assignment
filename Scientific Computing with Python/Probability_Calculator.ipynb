{
  "nbformat": 4,
  "nbformat_minor": 0,
  "metadata": {
    "colab": {
      "provenance": []
    },
    "kernelspec": {
      "name": "python3",
      "display_name": "Python 3"
    },
    "language_info": {
      "name": "python"
    }
  },
  "cells": [
    {
      "cell_type": "markdown",
      "source": [
        "**Freecodecamp question link:**\n",
        "\n",
        "https://www.freecodecamp.org/learn/scientific-computing-with-python/scientific-computing-with-python-projects/probability-calculator\n"
      ],
      "metadata": {
        "id": "fu1A4qZI32wH"
      }
    },
    {
      "cell_type": "markdown",
      "source": [
        "This Python project is to estimate the approximate probability of drawing specific balls from a hat through a series of randomized experiments. The project involves creating a Hat class that represents a container with various colored balls and implementing a draw method to simulate random draws without replacement. Additionally, an experiment function is developed to perform a specified number of experiments, each involving drawing a set number of balls from a hat. The user can define the expected composition of the drawn balls, and the function calculates the probability of achieving the desired outcome based on the experimental results. This project provides a practical approach to estimate probabilities through simulations, particularly useful when precise mathematical calculations are complex or impractical.\n",
        "\n",
        "\n",
        "\n",
        "\n",
        "\n"
      ],
      "metadata": {
        "id": "LvCQzvq94ty1"
      }
    },
    {
      "cell_type": "code",
      "source": [
        "import copy\n",
        "import random\n",
        "# Consider using the modules imported above.\n",
        "\n",
        "class Hat:\n",
        "    def __init__(self, **kwargs):\n",
        "        # Initialize the hat with balls of specified colors and counts\n",
        "        self.contents = []\n",
        "        for color, count in kwargs.items():\n",
        "          self.contents.extend([color] * count)\n",
        "\n",
        "    def draw(self, num_balls):\n",
        "        # Randomly draw a specified number of balls from the hat\n",
        "        drawn_balls = random.sample(self.contents,\n",
        "                                    min(num_balls, len(self.contents)))\n",
        "\n",
        "        # Remove the drawn balls from the hat\n",
        "        for ball in drawn_balls:\n",
        "          self.contents.remove(ball)\n",
        "\n",
        "        # Return the drawn balls\n",
        "        return drawn_balls\n",
        "\n",
        "\n",
        "def experiment(hat, expected_balls, num_balls_drawn, num_experiments):\n",
        "    # Counter for successful experiments\n",
        "    successful_experiments = 0\n",
        "\n",
        "    for _ in range(num_experiments):\n",
        "      # Create a copy of the hat with the same distribution of colors\n",
        "      hat_copy = Hat(\n",
        "          **{color: hat.contents.count(color)\n",
        "            for color in hat.contents})\n",
        "\n",
        "      # Draw a specified number of balls from the copied hat\n",
        "      drawn_balls = hat_copy.draw(num_balls_drawn)\n",
        "\n",
        "      # Check if the drawn balls match the expected_balls\n",
        "      success = all(\n",
        "          drawn_balls.count(color) >= expected_count\n",
        "          for color, expected_count in expected_balls.items())\n",
        "\n",
        "      # If the experiment is successful, increment the counter\n",
        "      if success:\n",
        "        successful_experiments += 1\n",
        "\n",
        "    # Calculate the probability as the ratio of successful experiments to total experiments\n",
        "    probability = successful_experiments / num_experiments\n",
        "    return probability"
      ],
      "metadata": {
        "id": "jzJX53SQNXi6"
      },
      "execution_count": 1,
      "outputs": []
    },
    {
      "cell_type": "code",
      "source": [
        "hat = Hat(blue=4, red=2, green=6)\n",
        "\n",
        "# To breakdown : hat_copy = Hat(**{color: hat.contents.count(color) for color in hat.contents})\n",
        "# ** syntax is to pass the contents of the dict aas keyword arguments to a function or constructor\n",
        "color_count_dict = {color: hat.contents.count(color) for color in hat.contents}\n",
        "print(color_count_dict)\n",
        "hat_copy = Hat(**color_count_dict)"
      ],
      "metadata": {
        "colab": {
          "base_uri": "https://localhost:8080/"
        },
        "id": "IvluLgOVYS2H",
        "outputId": "e1fbcddf-7f3e-4242-ce94-4128ba95ef29"
      },
      "execution_count": 2,
      "outputs": [
        {
          "output_type": "stream",
          "name": "stdout",
          "text": [
            "{'blue': 4, 'red': 2, 'green': 6}\n"
          ]
        }
      ]
    },
    {
      "cell_type": "code",
      "source": [
        "hat = Hat(blue=4, red=2, green=6)\n",
        "\n",
        "probability = experiment(\n",
        "    hat=hat,\n",
        "    expected_balls={\"blue\": 2,\n",
        "                    \"red\": 1},\n",
        "    num_balls_drawn=10,\n",
        "    num_experiments=10000)\n",
        "\n",
        "print(probability)"
      ],
      "metadata": {
        "colab": {
          "base_uri": "https://localhost:8080/"
        },
        "id": "YNk6hHdtOFqc",
        "outputId": "eda18339-5939-489d-801a-867b8956530b"
      },
      "execution_count": 3,
      "outputs": [
        {
          "output_type": "stream",
          "name": "stdout",
          "text": [
            "0.9847\n"
          ]
        }
      ]
    },
    {
      "cell_type": "code",
      "source": [
        "hat1 = Hat(blue=4, red=2, green=6)\n",
        "\n",
        "probability1 = experiment(\n",
        "    hat=hat1,\n",
        "    expected_balls={\"blue\": 2,\n",
        "                    \"red\": 1},\n",
        "    num_balls_drawn=10,\n",
        "    num_experiments=10000)\n",
        "\n",
        "print(\"Test Case 1 Probability: {:.2f}%\".format(probability1 * 100))"
      ],
      "metadata": {
        "colab": {
          "base_uri": "https://localhost:8080/"
        },
        "id": "scVbjQ5zP8Z2",
        "outputId": "a7997590-1a40-451b-f31c-18816fb53e6e"
      },
      "execution_count": 13,
      "outputs": [
        {
          "output_type": "stream",
          "name": "stdout",
          "text": [
            "Test Case 1 Probability: 98.48%\n"
          ]
        }
      ]
    },
    {
      "cell_type": "code",
      "source": [
        "hat2 = Hat(yellow=3, red=5, green=2, blue=2)\n",
        "\n",
        "probability2 = experiment(\n",
        "    hat=hat2,\n",
        "    expected_balls={\"yellow\": 1,\n",
        "                    \"green\": 1,\n",
        "                    \"blue\": 2},\n",
        "    num_balls_drawn=5,\n",
        "    num_experiments=5000)\n",
        "\n",
        "print(\"Test Case 2 Probability: {:.2f}%\".format(probability2 * 100))"
      ],
      "metadata": {
        "colab": {
          "base_uri": "https://localhost:8080/"
        },
        "id": "jhJT1e0R4nLK",
        "outputId": "3a38cc03-6587-4567-f991-0199d212c7a0"
      },
      "execution_count": 16,
      "outputs": [
        {
          "output_type": "stream",
          "name": "stdout",
          "text": [
            "Test Case 2 Probability: 5.10%\n"
          ]
        }
      ]
    },
    {
      "cell_type": "code",
      "source": [
        "hat3 = Hat(red=8, blue=5, green=4)\n",
        "\n",
        "probability3 = experiment(\n",
        "    hat=hat3,\n",
        "    expected_balls={\"red\": 2,\n",
        "                    \"green\": 1},\n",
        "    num_balls_drawn=6,\n",
        "    num_experiments=15000)\n",
        "\n",
        "print(\"Test Case 3 Probability: {:.2f}%\".format(probability3 * 100))"
      ],
      "metadata": {
        "colab": {
          "base_uri": "https://localhost:8080/"
        },
        "id": "dARHUT454nFl",
        "outputId": "6a1ac675-0e61-471a-e501-b6bb685b50bb"
      },
      "execution_count": 15,
      "outputs": [
        {
          "output_type": "stream",
          "name": "stdout",
          "text": [
            "Test Case 3 Probability: 77.58%\n"
          ]
        }
      ]
    },
    {
      "cell_type": "code",
      "source": [],
      "metadata": {
        "id": "-GMMjyQg5WaY"
      },
      "execution_count": null,
      "outputs": []
    }
  ]
}