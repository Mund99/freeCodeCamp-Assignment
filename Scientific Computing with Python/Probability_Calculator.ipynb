{
  "nbformat": 4,
  "nbformat_minor": 0,
  "metadata": {
    "colab": {
      "provenance": [],
      "authorship_tag": "ABX9TyPi/CdkL0AsapDxCYpqhPFf",
      "include_colab_link": true
    },
    "kernelspec": {
      "name": "python3",
      "display_name": "Python 3"
    },
    "language_info": {
      "name": "python"
    }
  },
  "cells": [
    {
      "cell_type": "markdown",
      "metadata": {
        "id": "view-in-github",
        "colab_type": "text"
      },
      "source": [
        "<a href=\"https://colab.research.google.com/github/Mund99/freeCodeCamp-Assignment/blob/main/Scientific%20Computing%20with%20Python/Probability_Calculator.ipynb\" target=\"_parent\"><img src=\"https://colab.research.google.com/assets/colab-badge.svg\" alt=\"Open In Colab\"/></a>"
      ]
    },
    {
      "cell_type": "markdown",
      "source": [
        "**Freecodecamp question link:**\n",
        "\n",
        "https://www.freecodecamp.org/learn/scientific-computing-with-python/scientific-computing-with-python-projects/probability-calculator\n"
      ],
      "metadata": {
        "id": "fu1A4qZI32wH"
      }
    },
    {
      "cell_type": "markdown",
      "source": [
        "This Python project is to estimate the approximate probability of drawing specific balls from a hat through a series of randomized experiments. The project involves creating a Hat class that represents a container with various colored balls and implementing a draw method to simulate random draws without replacement. Additionally, an experiment function is developed to perform a specified number of experiments, each involving drawing a set number of balls from a hat. The user can define the expected composition of the drawn balls, and the function calculates the probability of achieving the desired outcome based on the experimental results. This project provides a practical approach to estimate probabilities through simulations, particularly useful when precise mathematical calculations are complex or impractical.\n",
        "\n",
        "\n",
        "\n",
        "\n",
        "\n"
      ],
      "metadata": {
        "id": "LvCQzvq94ty1"
      }
    },
    {
      "cell_type": "code",
      "source": [
        "import copy\n",
        "import random\n",
        "# Consider using the modules imported above.\n",
        "\n",
        "class Hat:\n",
        "    def __init__(self, **kwargs):\n",
        "        # Initialize the hat with balls of specified colors and counts\n",
        "        self.contents = []\n",
        "        for color, count in kwargs.items():\n",
        "          self.contents.extend([color] * count)\n",
        "\n",
        "    def draw(self, num_balls):\n",
        "        # Randomly draw a specified number of balls from the hat\n",
        "        drawn_balls = random.sample(self.contents,\n",
        "                                    min(num_balls, len(self.contents)))\n",
        "\n",
        "        # Remove the drawn balls from the hat\n",
        "        for ball in drawn_balls:\n",
        "          self.contents.remove(ball)\n",
        "\n",
        "        # Return the drawn balls\n",
        "        return drawn_balls\n",
        "\n",
        "\n",
        "def experiment(hat, expected_balls, num_balls_drawn, num_experiments):\n",
        "    # Counter for successful experiments\n",
        "    successful_experiments = 0\n",
        "\n",
        "    for _ in range(num_experiments):\n",
        "      # Create a copy of the hat with the same distribution of colors\n",
        "      hat_copy = Hat(\n",
        "          **{color: hat.contents.count(color)\n",
        "            for color in hat.contents})\n",
        "\n",
        "      # Draw a specified number of balls from the copied hat\n",
        "      drawn_balls = hat_copy.draw(num_balls_drawn)\n",
        "\n",
        "      # Check if the drawn balls match the expected_balls\n",
        "      success = all(\n",
        "          drawn_balls.count(color) >= expected_count\n",
        "          for color, expected_count in expected_balls.items())\n",
        "\n",
        "      # If the experiment is successful, increment the counter\n",
        "      if success:\n",
        "        successful_experiments += 1\n",
        "\n",
        "    # Calculate the probability as the ratio of successful experiments to total experiments\n",
        "    probability = successful_experiments / num_experiments\n",
        "    return probability"
      ],
      "metadata": {
        "id": "jzJX53SQNXi6"
      },
      "execution_count": 1,
      "outputs": []
    },
    {
      "cell_type": "code",
      "source": [
        "hat = Hat(blue=4, red=2, green=6)\n",
        "\n",
        "# To breakdown : hat_copy = Hat(**{color: hat.contents.count(color) for color in hat.contents})\n",
        "# ** syntax is to pass the contents of the dict aas keyword arguments to a function or constructor\n",
        "color_count_dict = {color: hat.contents.count(color) for color in hat.contents}\n",
        "print(color_count_dict)\n",
        "hat_copy = Hat(**color_count_dict)"
      ],
      "metadata": {
        "colab": {
          "base_uri": "https://localhost:8080/"
        },
        "id": "IvluLgOVYS2H",
        "outputId": "a34b93be-c22d-4a8c-df37-1a71fd53ba65"
      },
      "execution_count": 2,
      "outputs": [
        {
          "output_type": "stream",
          "name": "stdout",
          "text": [
            "{'blue': 4, 'red': 2, 'green': 6}\n"
          ]
        }
      ]
    },
    {
      "cell_type": "code",
      "source": [
        "hat = Hat(blue=4, red=2, green=6)\n",
        "\n",
        "probability = experiment(\n",
        "    hat=hat,\n",
        "    expected_balls={\"blue\": 2,\n",
        "                    \"red\": 1},\n",
        "    num_balls_drawn=10,\n",
        "    num_experiments=10000)\n",
        "\n",
        "print(probability)"
      ],
      "metadata": {
        "colab": {
          "base_uri": "https://localhost:8080/"
        },
        "id": "YNk6hHdtOFqc",
        "outputId": "fdb4231b-a1ec-477e-fc92-a8d6056dcf43"
      },
      "execution_count": 3,
      "outputs": [
        {
          "output_type": "stream",
          "name": "stdout",
          "text": [
            "0.9841\n"
          ]
        }
      ]
    },
    {
      "cell_type": "code",
      "source": [
        "hat1 = Hat(blue=4, red=2, green=6)\n",
        "\n",
        "probability1 = experiment(\n",
        "    hat=hat1,\n",
        "    expected_balls={\"blue\": 2,\n",
        "                    \"red\": 1},\n",
        "    num_balls_drawn=10,\n",
        "    num_experiments=10000)\n",
        "\n",
        "print(\"Test Case 1 Probability: {:.2f}%\".format(probability1 * 100))"
      ],
      "metadata": {
        "colab": {
          "base_uri": "https://localhost:8080/"
        },
        "id": "scVbjQ5zP8Z2",
        "outputId": "760348ec-3dc5-40df-8dad-448557a979b2"
      },
      "execution_count": 4,
      "outputs": [
        {
          "output_type": "stream",
          "name": "stdout",
          "text": [
            "Test Case 1 Probability: 98.50%\n"
          ]
        }
      ]
    },
    {
      "cell_type": "code",
      "source": [
        "hat2 = Hat(yellow=3, red=5, green=2, blue=2)\n",
        "\n",
        "probability2 = experiment(\n",
        "    hat=hat2,\n",
        "    expected_balls={\"yellow\": 1,\n",
        "                    \"green\": 1,\n",
        "                    \"blue\": 2},\n",
        "    num_balls_drawn=5,\n",
        "    num_experiments=5000)\n",
        "\n",
        "print(\"Test Case 2 Probability: {:.2f}%\".format(probability2 * 100))"
      ],
      "metadata": {
        "colab": {
          "base_uri": "https://localhost:8080/"
        },
        "id": "jhJT1e0R4nLK",
        "outputId": "2bfe3908-cdaa-4e62-89e3-f504ac549453"
      },
      "execution_count": 5,
      "outputs": [
        {
          "output_type": "stream",
          "name": "stdout",
          "text": [
            "Test Case 2 Probability: 5.06%\n"
          ]
        }
      ]
    },
    {
      "cell_type": "code",
      "source": [
        "hat3 = Hat(red=8, blue=5, green=4)\n",
        "\n",
        "probability3 = experiment(\n",
        "    hat=hat3,\n",
        "    expected_balls={\"red\": 2,\n",
        "                    \"green\": 1},\n",
        "    num_balls_drawn=6,\n",
        "    num_experiments=15000)\n",
        "\n",
        "print(\"Test Case 3 Probability: {:.2f}%\".format(probability3 * 100))"
      ],
      "metadata": {
        "colab": {
          "base_uri": "https://localhost:8080/"
        },
        "id": "dARHUT454nFl",
        "outputId": "422a9ff1-4d5b-44a2-c009-e6eda194768d"
      },
      "execution_count": 6,
      "outputs": [
        {
          "output_type": "stream",
          "name": "stdout",
          "text": [
            "Test Case 3 Probability: 76.87%\n"
          ]
        }
      ]
    }
  ]
}