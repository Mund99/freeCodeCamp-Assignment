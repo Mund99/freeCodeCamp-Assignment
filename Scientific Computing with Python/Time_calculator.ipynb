{
  "nbformat": 4,
  "nbformat_minor": 0,
  "metadata": {
    "colab": {
      "provenance": [],
      "authorship_tag": "ABX9TyMsGwl0JxWRjYYltZnMDMLr",
      "include_colab_link": true
    },
    "kernelspec": {
      "name": "python3",
      "display_name": "Python 3"
    },
    "language_info": {
      "name": "python"
    }
  },
  "cells": [
    {
      "cell_type": "markdown",
      "metadata": {
        "id": "view-in-github",
        "colab_type": "text"
      },
      "source": [
        "<a href=\"https://colab.research.google.com/github/Mund99/freeCodeCamp-Assignment/blob/main/Scientific%20Computing%20with%20Python/Time_calculator.ipynb\" target=\"_parent\"><img src=\"https://colab.research.google.com/assets/colab-badge.svg\" alt=\"Open In Colab\"/></a>"
      ]
    },
    {
      "cell_type": "markdown",
      "source": [
        "**freecodecamp project link:**\n",
        "\n",
        "https://www.freecodecamp.org/learn/scientific-computing-with-python/scientific-computing-with-python-projects/time-calculator"
      ],
      "metadata": {
        "id": "SHI3RG8C-Nxi"
      }
    },
    {
      "cell_type": "code",
      "execution_count": 1,
      "metadata": {
        "id": "ioBzNFSE-JIy"
      },
      "outputs": [],
      "source": [
        "def add_time(start, duration, start_day=None):\n",
        "    # Parse start time and duration\n",
        "    start_time, period = start.split()\n",
        "    start_hour, start_minute = map(int, start_time.split(':'))\n",
        "    duration_hour, duration_minute = map(int, duration.split(':'))\n",
        "\n",
        "    # Convert start time to 24-hour format\n",
        "    if period == \"PM\":\n",
        "        start_hour += 12\n",
        "\n",
        "    # Calculate new time\n",
        "    new_hour = start_hour + duration_hour\n",
        "    new_minute = start_minute + duration_minute\n",
        "\n",
        "    # Handle overflow of minutes\n",
        "    if new_minute >= 60:\n",
        "        new_hour += 1\n",
        "        new_minute -= 60\n",
        "\n",
        "    # Handle the case where new_hour becomes 0\n",
        "    if new_hour == 0:\n",
        "        new_hour = 12\n",
        "\n",
        "    # Calculate days passed\n",
        "    days_passed = new_hour // 24\n",
        "    new_hour %= 24\n",
        "\n",
        "    # Determine AM or PM for the result\n",
        "    new_period = \"AM\" if new_hour < 12 else \"PM\"\n",
        "\n",
        "    # Convert back to 12-hour format\n",
        "    if new_hour > 12:\n",
        "        new_hour -= 12\n",
        "\n",
        "    # Handle the case when it's the next day\n",
        "    next_day_str = \"\" if days_passed == 0 else \" (next day)\" if days_passed == 1 else f\" ({days_passed} days later)\"\n",
        "\n",
        "    # Determine the day of the week for the result\n",
        "    if start_day:\n",
        "        days_of_week = [\"Monday\", \"Tuesday\", \"Wednesday\", \"Thursday\", \"Friday\", \"Saturday\", \"Sunday\"]\n",
        "        start_day = start_day.capitalize()\n",
        "        start_index = days_of_week.index(start_day)\n",
        "        new_day_index = (start_index + days_passed) % 7\n",
        "        new_day = days_of_week[new_day_index]\n",
        "        day_str = f\", {new_day}\"\n",
        "    else:\n",
        "        day_str = \"\"\n",
        "\n",
        "    # Format the result\n",
        "    result = f\"{12 if new_hour == 0 else new_hour}:{new_minute:02d} {new_period}{day_str}{next_day_str}\"\n",
        "\n",
        "    return result"
      ]
    },
    {
      "cell_type": "code",
      "source": [
        "add_time(\"3:00 PM\", \"3:10\")\n",
        "# Returns: 6:10 PM"
      ],
      "metadata": {
        "colab": {
          "base_uri": "https://localhost:8080/",
          "height": 36
        },
        "id": "xcZNlyg0EA5Z",
        "outputId": "014e02e7-5187-46eb-952c-705e4ff561f9"
      },
      "execution_count": 2,
      "outputs": [
        {
          "output_type": "execute_result",
          "data": {
            "text/plain": [
              "'6:10 PM'"
            ],
            "application/vnd.google.colaboratory.intrinsic+json": {
              "type": "string"
            }
          },
          "metadata": {},
          "execution_count": 2
        }
      ]
    },
    {
      "cell_type": "code",
      "source": [
        "add_time(\"11:30 AM\", \"2:32\", \"Monday\")\n",
        "# Returns: 2:02 PM, Monday"
      ],
      "metadata": {
        "colab": {
          "base_uri": "https://localhost:8080/",
          "height": 36
        },
        "id": "jrJPXzV9EJ1X",
        "outputId": "b77f4747-f921-473b-9f58-c3143097d935"
      },
      "execution_count": 3,
      "outputs": [
        {
          "output_type": "execute_result",
          "data": {
            "text/plain": [
              "'2:02 PM, Monday'"
            ],
            "application/vnd.google.colaboratory.intrinsic+json": {
              "type": "string"
            }
          },
          "metadata": {},
          "execution_count": 3
        }
      ]
    },
    {
      "cell_type": "code",
      "source": [
        "add_time(\"11:43 AM\", \"00:20\")\n",
        "# Returns: 12:03 PM"
      ],
      "metadata": {
        "colab": {
          "base_uri": "https://localhost:8080/",
          "height": 36
        },
        "id": "G_qqaSywEJyw",
        "outputId": "62afaaaa-be36-425f-b844-92646b0df5fd"
      },
      "execution_count": 4,
      "outputs": [
        {
          "output_type": "execute_result",
          "data": {
            "text/plain": [
              "'12:03 PM'"
            ],
            "application/vnd.google.colaboratory.intrinsic+json": {
              "type": "string"
            }
          },
          "metadata": {},
          "execution_count": 4
        }
      ]
    },
    {
      "cell_type": "code",
      "source": [
        "add_time(\"10:10 PM\", \"3:30\")\n",
        "# Returns: 1:40 AM (next day)"
      ],
      "metadata": {
        "colab": {
          "base_uri": "https://localhost:8080/",
          "height": 36
        },
        "id": "zI4hEBM8EJvy",
        "outputId": "d481f1eb-f2dc-4853-9956-0e2ab8915d43"
      },
      "execution_count": 5,
      "outputs": [
        {
          "output_type": "execute_result",
          "data": {
            "text/plain": [
              "'1:40 AM (next day)'"
            ],
            "application/vnd.google.colaboratory.intrinsic+json": {
              "type": "string"
            }
          },
          "metadata": {},
          "execution_count": 5
        }
      ]
    },
    {
      "cell_type": "code",
      "source": [
        "add_time(\"11:43 PM\", \"24:20\", \"tueSday\")\n",
        "# Returns: 12:03 AM, Thursday (2 days later)"
      ],
      "metadata": {
        "colab": {
          "base_uri": "https://localhost:8080/",
          "height": 36
        },
        "id": "wHf-tPUvEJtV",
        "outputId": "c013798b-bfac-42c6-ff32-21950ce847bd"
      },
      "execution_count": 6,
      "outputs": [
        {
          "output_type": "execute_result",
          "data": {
            "text/plain": [
              "'12:03 AM, Thursday (2 days later)'"
            ],
            "application/vnd.google.colaboratory.intrinsic+json": {
              "type": "string"
            }
          },
          "metadata": {},
          "execution_count": 6
        }
      ]
    },
    {
      "cell_type": "code",
      "source": [
        "add_time(\"6:30 PM\", \"205:12\")\n",
        "# Returns: 7:42 AM (9 days later)"
      ],
      "metadata": {
        "colab": {
          "base_uri": "https://localhost:8080/",
          "height": 36
        },
        "id": "wvnVUdtwEJqD",
        "outputId": "2ec72757-527b-416b-d9f5-64a49afb94e1"
      },
      "execution_count": 7,
      "outputs": [
        {
          "output_type": "execute_result",
          "data": {
            "text/plain": [
              "'7:42 AM (9 days later)'"
            ],
            "application/vnd.google.colaboratory.intrinsic+json": {
              "type": "string"
            }
          },
          "metadata": {},
          "execution_count": 7
        }
      ]
    }
  ]
}