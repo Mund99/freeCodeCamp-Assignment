{
  "nbformat": 4,
  "nbformat_minor": 0,
  "metadata": {
    "colab": {
      "provenance": [],
      "authorship_tag": "ABX9TyPDIkGDQ5zrA1EUqpjBpfL1",
      "include_colab_link": true
    },
    "kernelspec": {
      "name": "python3",
      "display_name": "Python 3"
    },
    "language_info": {
      "name": "python"
    }
  },
  "cells": [
    {
      "cell_type": "markdown",
      "metadata": {
        "id": "view-in-github",
        "colab_type": "text"
      },
      "source": [
        "<a href=\"https://colab.research.google.com/github/Mund99/freeCodeCamp-Assignment/blob/main/Scientific%20Computing%20with%20Python/Budget_App.ipynb\" target=\"_parent\"><img src=\"https://colab.research.google.com/assets/colab-badge.svg\" alt=\"Open In Colab\"/></a>"
      ]
    },
    {
      "cell_type": "markdown",
      "source": [
        "**Freecodecamp link:**\n",
        "\n",
        "https://www.freecodecamp.org/learn/scientific-computing-with-python/scientific-computing-with-python-projects/budget-app"
      ],
      "metadata": {
        "id": "ndF9AqNx-IhT"
      }
    },
    {
      "cell_type": "code",
      "execution_count": 1,
      "metadata": {
        "id": "xNlby4Ga7W5E"
      },
      "outputs": [],
      "source": [
        "class Category:\n",
        "    def __init__(self, category):\n",
        "        # Initialize a new budget category with a given name and an empty ledger\n",
        "        self.category = category\n",
        "        self.ledger = []\n",
        "\n",
        "    def deposit(self, amount, description=\"\"):\n",
        "        # Record a deposit in the ledger with the given amount and description\n",
        "        self.ledger.append({\"amount\": amount, \"description\": description})\n",
        "\n",
        "    def withdraw(self, amount, description=\"\"):\n",
        "        # Record a withdrawal in the ledger with the given amount and description\n",
        "        # Only proceed if there are enough funds available\n",
        "        if self.check_funds(amount):\n",
        "            self.ledger.append({\"amount\": -amount, \"description\": description})\n",
        "            return True\n",
        "        return False\n",
        "\n",
        "    def get_balance(self):\n",
        "        # Calculate and return the current balance based on deposits and withdrawals\n",
        "        return sum(item[\"amount\"] for item in self.ledger)\n",
        "\n",
        "    def transfer(self, amount, budget_category):\n",
        "        # Transfer funds from the current category to another category\n",
        "        # Only proceed if there are enough funds available\n",
        "        if self.check_funds(amount):\n",
        "            self.withdraw(amount, f\"Transfer to {budget_category.category}\")\n",
        "            budget_category.deposit(amount, f\"Transfer from {self.category}\")\n",
        "            return True\n",
        "        return False\n",
        "\n",
        "    def check_funds(self, amount):\n",
        "        # Check if the given amount is less than or equal to the current balance\n",
        "        return amount <= self.get_balance()\n",
        "\n",
        "    def __str__(self):\n",
        "        # Return a string representation of the budget category, including a title,\n",
        "        # ledger items, and the total balance\n",
        "        title = f\"{self.category:*^30}\\n\"\n",
        "        items = \"\"\n",
        "        for item in self.ledger:\n",
        "            items += f\"{item['description'][:23]:23}{item['amount']:>7.2f}\\n\"\n",
        "        total = f\"Total: {self.get_balance():.2f}\"\n",
        "        return title + items + total\n",
        "\n",
        "\n",
        "def create_spend_chart(categories):\n",
        "    # Create a bar chart showing the percentage spent by each category\n",
        "    chart = \"Percentage spent by category\\n\"\n",
        "    spendings = [(c.category, sum(item[\"amount\"] for item in c.ledger if item[\"amount\"] < 0)) for c in categories]\n",
        "    total_spent = sum(spending for category, spending in spendings)\n",
        "\n",
        "    # Generate the bar chart by iterating over percentage values\n",
        "    for i in range(100, -1, -10):\n",
        "        chart += str(i).rjust(3) + \"| \"\n",
        "        for category, spending in spendings:\n",
        "            percentage = spending / total_spent if total_spent != 0 else 0\n",
        "            chart += \"o\" if percentage * 100 >= i else \" \"\n",
        "            chart += \"  \"\n",
        "        chart += \"\\n\"\n",
        "\n",
        "    # Add a horizontal line below the bars\n",
        "    chart += \"    -\" + \"---\" * len(categories) + \"\\n\"\n",
        "\n",
        "    # Add category names below the chart, written vertically\n",
        "    max_len = max(len(category.category) for category in categories)\n",
        "    for i in range(max_len):\n",
        "        chart += \"     \"\n",
        "        for category in categories:\n",
        "            chart += category.category[i] if i < len(category.category) else \" \"\n",
        "            chart += \"  \"\n",
        "        if i < max_len - 1:\n",
        "            chart += \"\\n\"\n",
        "\n",
        "    return chart\n"
      ]
    },
    {
      "cell_type": "code",
      "source": [
        "food = Category(\"Food\")\n",
        "food.deposit(1000, \"initial deposit\")\n",
        "food.withdraw(10.15, \"groceries\")\n",
        "food.withdraw(15.89, \"restaurant and more food for dessert\")\n",
        "print(food.get_balance())"
      ],
      "metadata": {
        "id": "ToAhU15p9wLJ",
        "colab": {
          "base_uri": "https://localhost:8080/"
        },
        "outputId": "1aea0856-6fa2-4b83-9f46-72ba30d88642"
      },
      "execution_count": 3,
      "outputs": [
        {
          "output_type": "stream",
          "name": "stdout",
          "text": [
            "973.96\n"
          ]
        }
      ]
    },
    {
      "cell_type": "code",
      "source": [
        "clothing = Category(\"Clothing\")\n",
        "food.transfer(50, clothing)\n",
        "clothing.withdraw(25.55)\n",
        "clothing.withdraw(100)\n",
        "auto = Category(\"Auto\")\n",
        "auto.deposit(1000, \"initial deposit\")\n",
        "auto.withdraw(15)\n",
        "\n",
        "print(food)\n",
        "print(clothing)\n",
        "\n",
        "print(create_spend_chart([food, clothing, auto]))"
      ],
      "metadata": {
        "colab": {
          "base_uri": "https://localhost:8080/"
        },
        "id": "dN5nebCXGXQf",
        "outputId": "797dd475-4c78-4f7a-d27f-b9d7ac30f3e3"
      },
      "execution_count": 4,
      "outputs": [
        {
          "output_type": "stream",
          "name": "stdout",
          "text": [
            "*************Food*************\n",
            "initial deposit        1000.00\n",
            "groceries               -10.15\n",
            "restaurant and more foo -15.89\n",
            "Transfer to Clothing    -50.00\n",
            "Total: 923.96\n",
            "***********Clothing***********\n",
            "Transfer from Food       50.00\n",
            "                        -25.55\n",
            "Total: 24.45\n",
            "Percentage spent by category\n",
            "100|          \n",
            " 90|          \n",
            " 80|          \n",
            " 70|          \n",
            " 60| o        \n",
            " 50| o        \n",
            " 40| o        \n",
            " 30| o        \n",
            " 20| o  o     \n",
            " 10| o  o  o  \n",
            "  0| o  o  o  \n",
            "    ----------\n",
            "     F  C  A  \n",
            "     o  l  u  \n",
            "     o  o  t  \n",
            "     d  t  o  \n",
            "        h     \n",
            "        i     \n",
            "        n     \n",
            "        g     \n"
          ]
        }
      ]
    }
  ]
}